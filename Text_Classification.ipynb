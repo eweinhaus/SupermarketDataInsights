{
 "cells": [
  {
   "cell_type": "code",
   "execution_count": 29,
   "metadata": {},
   "outputs": [
    {
     "name": "stderr",
     "output_type": "stream",
     "text": [
      "[nltk_data] Downloading package stopwords to /Users/ethan/nltk_data...\n",
      "[nltk_data]   Package stopwords is already up-to-date!\n",
      "[nltk_data] Downloading package wordnet to /Users/ethan/nltk_data...\n",
      "[nltk_data]   Package wordnet is already up-to-date!\n"
     ]
    }
   ],
   "source": [
    "#Importing\n",
    "import numpy as np\n",
    "import pandas as pd\n",
    "import bs4 as bs\n",
    "from nltk.stem import PorterStemmer\n",
    "from nltk.stem import WordNetLemmatizer\n",
    "import re\n",
    "import nltk\n",
    "from nltk.corpus import stopwords\n",
    "from sklearn.feature_extraction.text import CountVectorizer\n",
    "from sklearn.model_selection import train_test_split\n",
    "from sklearn.metrics import precision_score\n",
    "from sklearn.neighbors import KNeighborsClassifier\n",
    "from sklearn.linear_model import LogisticRegression, LinearRegression\n",
    "from sklearn.ensemble import RandomForestClassifier\n",
    "from sklearn.svm import SVC\n",
    "from sklearn.neural_network import MLPClassifier\n",
    "nltk.download(\"stopwords\")\n",
    "nltk.download(\"wordnet\")\n",
    "eng_stopwords = stopwords.words(\"english\")\n",
    "import warnings\n",
    "warnings.simplefilter('ignore')"
   ]
  },
  {
   "cell_type": "code",
   "execution_count": 30,
   "metadata": {},
   "outputs": [],
   "source": [
    "#Preparing for modeling\n",
    "def Evaluate(Y_Test, Predictions) :\n",
    "    from sklearn.metrics import accuracy_score, precision_score, recall_score, f1_score\n",
    "    Accuracy = accuracy_score(Y_Test, Predictions)\n",
    "    Precision = precision_score(Y_Test, Predictions)\n",
    "    Recall = recall_score(Y_Test, Predictions)\n",
    "    F1 = f1_score(Y_Test, Predictions)\n",
    "    Metric = {'Accuracy Score' : round(Accuracy,2),\n",
    "              'Precision Score' : round(Precision,2),\n",
    "              'Recall Score' : round(Recall,2),\n",
    "              'F1 Score' : round(F1,2)}\n",
    "    print(f'Accuracy Score : {Accuracy * 100:.2f}%')\n",
    "    print(f'Precision Score : {Precision * 100:.2f}%')\n",
    "    print(f'Recall Score : {Recall * 100:.2f}%')\n",
    "    print(f'F1 Score : {F1 * 100:.2f}%')\n",
    "    return Metric\n"
   ]
  },
  {
   "cell_type": "code",
   "execution_count": 31,
   "metadata": {
    "scrolled": false
   },
   "outputs": [
    {
     "name": "stdout",
     "output_type": "stream",
     "text": [
      "dimension of data: (568454, 10)\n"
     ]
    },
    {
     "data": {
      "text/html": [
       "<div>\n",
       "<style scoped>\n",
       "    .dataframe tbody tr th:only-of-type {\n",
       "        vertical-align: middle;\n",
       "    }\n",
       "\n",
       "    .dataframe tbody tr th {\n",
       "        vertical-align: top;\n",
       "    }\n",
       "\n",
       "    .dataframe thead th {\n",
       "        text-align: right;\n",
       "    }\n",
       "</style>\n",
       "<table border=\"1\" class=\"dataframe\">\n",
       "  <thead>\n",
       "    <tr style=\"text-align: right;\">\n",
       "      <th></th>\n",
       "      <th>Score</th>\n",
       "      <th>Text</th>\n",
       "    </tr>\n",
       "  </thead>\n",
       "  <tbody>\n",
       "    <tr>\n",
       "      <th>0</th>\n",
       "      <td>5</td>\n",
       "      <td>I have bought several of the Vitality canned d...</td>\n",
       "    </tr>\n",
       "    <tr>\n",
       "      <th>1</th>\n",
       "      <td>1</td>\n",
       "      <td>Product arrived labeled as Jumbo Salted Peanut...</td>\n",
       "    </tr>\n",
       "    <tr>\n",
       "      <th>2</th>\n",
       "      <td>4</td>\n",
       "      <td>This is a confection that has been around a fe...</td>\n",
       "    </tr>\n",
       "    <tr>\n",
       "      <th>3</th>\n",
       "      <td>2</td>\n",
       "      <td>If you are looking for the secret ingredient i...</td>\n",
       "    </tr>\n",
       "    <tr>\n",
       "      <th>4</th>\n",
       "      <td>5</td>\n",
       "      <td>Great taffy at a great price.  There was a wid...</td>\n",
       "    </tr>\n",
       "  </tbody>\n",
       "</table>\n",
       "</div>"
      ],
      "text/plain": [
       "   Score                                               Text\n",
       "0      5  I have bought several of the Vitality canned d...\n",
       "1      1  Product arrived labeled as Jumbo Salted Peanut...\n",
       "2      4  This is a confection that has been around a fe...\n",
       "3      2  If you are looking for the secret ingredient i...\n",
       "4      5  Great taffy at a great price.  There was a wid..."
      ]
     },
     "execution_count": 31,
     "metadata": {},
     "output_type": "execute_result"
    }
   ],
   "source": [
    "#Preparing dataset\n",
    "data=pd.read_csv('reviews.csv', encoding='ISO-8859-1')\n",
    "print(\"dimension of data: {}\".format(data.shape))\n",
    "data.drop('Id', axis=1, inplace=True)\n",
    "data.drop('ProductId', axis=1, inplace=True)\n",
    "data.drop('UserId', axis=1, inplace=True)\n",
    "data.drop('ProfileName', axis=1, inplace=True)\n",
    "data.drop('HelpfulnessNumerator', axis=1, inplace=True)\n",
    "data.drop('HelpfulnessDenominator', axis=1, inplace=True)\n",
    "data.drop('Time', axis=1, inplace=True)\n",
    "data.drop('Summary', axis=1, inplace=True)\n",
    "data.head()"
   ]
  },
  {
   "cell_type": "code",
   "execution_count": 32,
   "metadata": {},
   "outputs": [
    {
     "name": "stdout",
     "output_type": "stream",
     "text": [
      "Done with 1000 reviews\n",
      "Done with 2000 reviews\n",
      "Done with 3000 reviews\n",
      "Done with 4000 reviews\n",
      "Done with 5000 reviews\n",
      "Done with 6000 reviews\n",
      "Done with 7000 reviews\n",
      "Done with 8000 reviews\n",
      "Done with 9000 reviews\n",
      "Done with 10000 reviews\n"
     ]
    }
   ],
   "source": [
    "#Preparing data for review\n",
    "data = data.head(10000)\n",
    "text_input = data[\"Text\"]\n",
    "y = data['Score']\n",
    "\n",
    "ps = PorterStemmer()\n",
    "vectorizer = CountVectorizer(\n",
    "        ngram_range=(1, 1),\n",
    "        analyzer=\"word\",\n",
    "        tokenizer=None,\n",
    "        preprocessor=None,\n",
    "        stop_words=None,\n",
    "        max_features=100)\n",
    "\n",
    "wnl = WordNetLemmatizer()\n",
    "\n",
    "cleaned_reviews = []\n",
    "\n",
    "#Iterating through reviews \n",
    "for i, review in enumerate(text_input):\n",
    "    if (i + 1) % 1000 == 0:\n",
    "        print(\"Done with %d reviews\" % (i + 1))\n",
    "    review = bs.BeautifulSoup(review).text\n",
    "    review = re.sub(\"[^a-zA-Z]\", \" \", review)\n",
    "    review = review.lower().split()\n",
    "    eng_stopwords = set(stopwords.words(\"english\"))\n",
    "    clean_review = []\n",
    "    for word in review:\n",
    "        if word not in eng_stopwords:\n",
    "            word = wnl.lemmatize(word)\n",
    "            clean_review.append(word)\n",
    "    review_processed = \" \".join(clean_review)\n",
    "    cleaned_reviews.append(review_processed)"
   ]
  },
  {
   "cell_type": "code",
   "execution_count": 33,
   "metadata": {},
   "outputs": [],
   "source": [
    "X = vectorizer.fit_transform(cleaned_reviews).toarray()"
   ]
  },
  {
   "cell_type": "code",
   "execution_count": 34,
   "metadata": {},
   "outputs": [
    {
     "name": "stdout",
     "output_type": "stream",
     "text": [
      "[0 0 0 0 0 0 2 0 1 0 0 0 0 0 0 0 0 0 0 0 0 0 1 0 0 0 0 0 0 0 0 0 0 1 1 0 0\n",
      " 0 0 1 0 0 0 0 0 0 1 0 0 0 0 0 0 0 0 0 0 0 0 0 0 0 0 0 0 0 3 1 0 0 0 0 0 0\n",
      " 0 0 0 0 0 0 0 0 0 0 0 0 0 0 0 0 0 0 0 0 0 0 0 0 0 0]\n"
     ]
    }
   ],
   "source": [
    "print(X[0])"
   ]
  },
  {
   "cell_type": "code",
   "execution_count": 35,
   "metadata": {},
   "outputs": [
    {
     "name": "stdout",
     "output_type": "stream",
     "text": [
      "(7000, 100) (3000, 100)\n"
     ]
    }
   ],
   "source": [
    "X_train, X_test, y_train, y_test = train_test_split(X, y, test_size = 0.3)\n",
    "print (X_train.shape, X_test.shape)"
   ]
  },
  {
   "cell_type": "code",
   "execution_count": 36,
   "metadata": {},
   "outputs": [
    {
     "data": {
      "text/plain": [
       "RandomForestClassifier(bootstrap=True, ccp_alpha=0.0, class_weight=None,\n",
       "                       criterion='gini', max_depth=None, max_features='auto',\n",
       "                       max_leaf_nodes=None, max_samples=None,\n",
       "                       min_impurity_decrease=0.0, min_impurity_split=None,\n",
       "                       min_samples_leaf=1, min_samples_split=2,\n",
       "                       min_weight_fraction_leaf=0.0, n_estimators=100,\n",
       "                       n_jobs=None, oob_score=False, random_state=None,\n",
       "                       verbose=0, warm_start=False)"
      ]
     },
     "execution_count": 36,
     "metadata": {},
     "output_type": "execute_result"
    }
   ],
   "source": [
    "model = RandomForestClassifier()\n",
    "model.fit(X_train, y_train)"
   ]
  },
  {
   "cell_type": "code",
   "execution_count": 37,
   "metadata": {},
   "outputs": [
    {
     "name": "stdout",
     "output_type": "stream",
     "text": [
      "Training set score: 0.994\n",
      "Test set score: 0.665\n"
     ]
    }
   ],
   "source": [
    "print(\"Training set score: {:.3f}\".format(model.score(X_train, y_train)))\n",
    "print(\"Test set score: {:.3f}\".format(model.score(X_test, y_test)))\n",
    "predicted = model.predict(X_test)\n",
    "expected = y_test"
   ]
  },
  {
   "cell_type": "code",
   "execution_count": null,
   "metadata": {},
   "outputs": [],
   "source": []
  }
 ],
 "metadata": {
  "kernelspec": {
   "display_name": "Python 3",
   "language": "python",
   "name": "python3"
  },
  "language_info": {
   "codemirror_mode": {
    "name": "ipython",
    "version": 3
   },
   "file_extension": ".py",
   "mimetype": "text/x-python",
   "name": "python",
   "nbconvert_exporter": "python",
   "pygments_lexer": "ipython3",
   "version": "3.7.6"
  }
 },
 "nbformat": 4,
 "nbformat_minor": 4
}
